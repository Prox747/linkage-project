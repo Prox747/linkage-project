{
 "cells": [
  {
   "cell_type": "markdown",
   "metadata": {},
   "source": [
    "# Precision and Recall of Blocking"
   ]
  },
  {
   "cell_type": "markdown",
   "metadata": {},
   "source": [
    "$$ precision = \\frac{true \\ positives}{true \\ positives + false \\ positives } $$\n",
    "$$ recall = \\frac{true \\ positives}{true \\ positives + false \\ negatives } $$\n"
   ]
  },
  {
   "cell_type": "code",
   "execution_count": 1,
   "metadata": {},
   "outputs": [],
   "source": [
    "import paths\n",
    "import json\n",
    "from itertools import combinations\n"
   ]
  },
  {
   "cell_type": "code",
   "execution_count": 2,
   "metadata": {},
   "outputs": [],
   "source": [
    "with open(paths.RESULTS_DIR + \"/evaluation/entity2clusters.json\",\"r\") as file:\n",
    "    entity2clusters = json.load(file)\n",
    "    \n",
    "with open(paths.RESULTS_DIR + \"/clustering/hdbscan_clusters.json\",\"r\") as file:\n",
    "    hdbscan_clusters = json.load(file)\n"
   ]
  },
  {
   "cell_type": "code",
   "execution_count": 3,
   "metadata": {},
   "outputs": [],
   "source": [
    "TP = 0\n",
    "FP = 0\n",
    "FN = 0"
   ]
  },
  {
   "cell_type": "code",
   "execution_count": 4,
   "metadata": {},
   "outputs": [],
   "source": [
    "for clusters in entity2clusters.values():\n",
    "    for cluster_id, values in clusters.items():\n",
    "        if cluster_id == '-1':\n",
    "            FN += len(values)\n",
    "            del clusters[cluster_id]\n",
    "            break"
   ]
  },
  {
   "cell_type": "code",
   "execution_count": 6,
   "metadata": {},
   "outputs": [
    {
     "name": "stdout",
     "output_type": "stream",
     "text": [
      "Precision: 0.5338078291814946\n",
      "Recall: 0.7709251101321586\n"
     ]
    }
   ],
   "source": [
    "for entity, clusters in entity2clusters.items():\n",
    "    if len(clusters) == 0:\n",
    "        continue\n",
    "    # Ottieni il cluster con il maggior numero di elementi\n",
    "    max_cluster = max(clusters.values(), key=len)\n",
    "    # Calcola False Positives (FP)\n",
    "    \n",
    "    for key,value in clusters.items():\n",
    "        if len(value) == len(max_cluster):\n",
    "             max_cluster_id = key\n",
    "             \n",
    "    for item in hdbscan_clusters[max_cluster_id]:\n",
    "        if item not in max_cluster:\n",
    "            FP += 1   \n",
    "                                 \n",
    "    # Calcola True Positives (TP) come elementi nel cluster più grande\n",
    "    TP += len(max_cluster)\n",
    "    \n",
    "    # Calcola False Negatives (FN) come elementi nei cluster più piccoli\n",
    "    for cluster in clusters.values():\n",
    "        if cluster != max_cluster:\n",
    "            FN += len(cluster)\n",
    "     \n",
    "# Calcola precision e recall\n",
    "precision = TP / (TP + FP) if (TP + FP) > 0 else 0\n",
    "recall = TP / (TP + FN) if (TP + FN) > 0 else 0\n",
    "\n",
    "print(f\"Precision: {precision}\")\n",
    "print(f\"Recall: {recall}\")"
   ]
  }
 ],
 "metadata": {
  "kernelspec": {
   "display_name": "linkage-project",
   "language": "python",
   "name": "python3"
  },
  "language_info": {
   "codemirror_mode": {
    "name": "ipython",
    "version": 3
   },
   "file_extension": ".py",
   "mimetype": "text/x-python",
   "name": "python",
   "nbconvert_exporter": "python",
   "pygments_lexer": "ipython3",
   "version": "3.12.2"
  }
 },
 "nbformat": 4,
 "nbformat_minor": 2
}
