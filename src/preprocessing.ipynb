{
 "cells": [
  {
   "cell_type": "markdown",
   "metadata": {},
   "source": [
    "# Pre processing process\n",
    "#### Sources adds in the page title a string to identify the provenance of the item. Since we don't want to consider the source in the clustering, we preprocess the data to remove that string from the page title before the embedding."
   ]
  },
  {
   "cell_type": "code",
   "execution_count": 29,
   "metadata": {},
   "outputs": [],
   "source": [
    "import preprocessing"
   ]
  },
  {
   "cell_type": "code",
   "execution_count": 32,
   "metadata": {},
   "outputs": [
    {
     "ename": "AttributeError",
     "evalue": "module 'preprocessing' has no attribute 'get_dataset_dir'",
     "output_type": "error",
     "traceback": [
      "\u001b[1;31m---------------------------------------------------------------------------\u001b[0m",
      "\u001b[1;31mAttributeError\u001b[0m                            Traceback (most recent call last)",
      "Cell \u001b[1;32mIn[32], line 1\u001b[0m\n\u001b[1;32m----> 1\u001b[0m preprocessing\u001b[38;5;241m.\u001b[39mprocess_sources(\u001b[43mpreprocessing\u001b[49m\u001b[38;5;241;43m.\u001b[39;49m\u001b[43mget_dataset_dir\u001b[49m())\n",
      "\u001b[1;31mAttributeError\u001b[0m: module 'preprocessing' has no attribute 'get_dataset_dir'"
     ]
    }
   ],
   "source": [
    "preprocessing.process_sources(preprocessing.get_dataset_dir())"
   ]
  }
 ],
 "metadata": {
  "kernelspec": {
   "display_name": "linkage-project",
   "language": "python",
   "name": "python3"
  },
  "language_info": {
   "codemirror_mode": {
    "name": "ipython",
    "version": 3
   },
   "file_extension": ".py",
   "mimetype": "text/x-python",
   "name": "python",
   "nbconvert_exporter": "python",
   "pygments_lexer": "ipython3",
   "version": "3.11.3"
  }
 },
 "nbformat": 4,
 "nbformat_minor": 2
}
