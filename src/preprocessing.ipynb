{
 "cells": [
  {
   "cell_type": "markdown",
   "metadata": {},
   "source": [
    "# Pre processing process\n",
    "#### Sources adds in the page title a string to identify the provenance of the item. Since we don't want to consider the source in the clustering, we preprocess the data to remove that string from the page title before the embedding."
   ]
  },
  {
   "cell_type": "code",
   "execution_count": 1,
   "metadata": {},
   "outputs": [],
   "source": [
    "import argparse\n",
    "import os\n",
    "import json\n",
    "import time\n",
    "import torch"
   ]
  },
  {
   "cell_type": "code",
   "execution_count": 2,
   "metadata": {},
   "outputs": [],
   "source": [
    "def assign_device(device_name):\n",
    "    if device_name == \"cuda\":\n",
    "        if torch.cuda.is_available():\n",
    "            device = torch.device(\"cuda\")\n",
    "            print(\"CUDA is available. Using GPU.\")\n",
    "            print(f\"CUDA Device Count: {torch.cuda.device_count()}\")\n",
    "            for i in range(torch.cuda.device_count()):\n",
    "                print(f\"Device {i}: {torch.cuda.get_device_name(i)}\")\n",
    "        else:\n",
    "            print(\"CUDA is not available. Falling back to CPU.\")\n",
    "            device = torch.device(\"cpu\")\n",
    "    elif device_name == \"mps\":\n",
    "        if torch.backends.mps.is_available():\n",
    "            device = torch.device(\"mps\")\n",
    "            print(\"MPS is available. Using Apple Silicon GPU.\")\n",
    "        else:\n",
    "            print(\"MPS is not available. Falling back to CPU.\")\n",
    "            device = torch.device(\"cpu\")\n",
    "    else:\n",
    "        device = torch.device(\"cpu\")\n",
    "    # Display available devices\n",
    "    print(f\"Device: {device}\")\n",
    "    print(f\"CUDA Available: {torch.cuda.is_available()}\")\n",
    "    print(f\"MPS Available: {torch.backends.mps.is_available()}\")\n",
    "   \n",
    "    return device"
   ]
  },
  {
   "cell_type": "code",
   "execution_count": 3,
   "metadata": {},
   "outputs": [
    {
     "name": "stdout",
     "output_type": "stream",
     "text": [
      "MPS is available. Using Apple Silicon GPU.\n",
      "Device: mps\n",
      "CUDA Available: False\n",
      "MPS Available: True\n",
      "mps\n"
     ]
    }
   ],
   "source": [
    "device = assign_device('mps')\n",
    "print(device)"
   ]
  },
  {
   "cell_type": "code",
   "execution_count": 4,
   "metadata": {},
   "outputs": [],
   "source": [
    "import os\n",
    "import json\n",
    "from collections import defaultdict\n",
    "from difflib import SequenceMatcher "
   ]
  },
  {
   "cell_type": "code",
   "execution_count": 24,
   "metadata": {},
   "outputs": [],
   "source": [
    "def find_common_prefix(strings):\n",
    " \n",
    "    if not strings:\n",
    "        return \"\"\n",
    "    prefix = strings[0]\n",
    "    for string in strings[1:]:\n",
    "        prefix = common_prefix_two_strings(prefix, string)\n",
    "        if not prefix:\n",
    "            break\n",
    "    return prefix"
   ]
  },
  {
   "cell_type": "code",
   "execution_count": 19,
   "metadata": {},
   "outputs": [],
   "source": [
    "def common_prefix_two_strings(str1, str2):\n",
    "    matcher = SequenceMatcher(None, str1, str2)\n",
    "    match = matcher.find_longest_match(0, len(str1), 0, len(str2))\n",
    "    return str1[match.a: match.a + match.size]"
   ]
  },
  {
   "cell_type": "code",
   "execution_count": 27,
   "metadata": {},
   "outputs": [],
   "source": [
    "def process_directory(directory):\n",
    "    file2pagetitle = {}\n",
    "    for _, _, files in os.walk(directory):\n",
    "        for file in files:\n",
    "            filepath = os.path.join(directory, file)\n",
    "            try:\n",
    "                with open(filepath, 'r', encoding='utf-8') as f:\n",
    "                    data = json.load(f)\n",
    "                    if data:\n",
    "                        page_title = data['<page title>']\n",
    "                        file2pagetitle[file] = page_title\n",
    "                    else:\n",
    "                        print(f\"Empty JSON file: {filepath}\")\n",
    "            except Exception as e:\n",
    "                print(f\"Error reading {filepath}: {e}\")\n",
    "                \n",
    "    prefix = find_common_prefix(list(file2pagetitle.values()))\n",
    "    \n",
    "    for key, value in file2pagetitle.items():\n",
    "        file2pagetitle[key] = value.replace(prefix, '')\n",
    "        \n",
    "    return file2pagetitle\n",
    "\n",
    "\n",
    "def process_sources(root_dir):\n",
    "    source2files = {}\n",
    "    for _, dirnames, filenames in os.walk(root_dir):\n",
    "        for dirname in dirnames:\n",
    "            source2files[dirname] = process_directory(root_dir + '/' + dirname)\n",
    "            \n",
    "    try:\n",
    "        output_filepath = os.path.join(root_dir + '/../output/preprocessed.json')\n",
    "        with open(output_filepath, 'w', encoding='utf-8') as f:\n",
    "            json.dump(source2files, f, ensure_ascii=False, indent=4)\n",
    "        print(f\"Written to {output_filepath}\")\n",
    "    except Exception as e:\n",
    "        print(f\"Error writing {output_filepath}: {e}\")\n",
    "    \n"
   ]
  },
  {
   "cell_type": "code",
   "execution_count": 28,
   "metadata": {},
   "outputs": [
    {
     "name": "stdout",
     "output_type": "stream",
     "text": [
      "Error writing /Users/alessandropesare/software/GitHub/ATCSBDIntegration/linkage-project/dataset/2013_monitor_specs/../output/preprocessed.json: name 'new_data' is not defined\n"
     ]
    }
   ],
   "source": [
    "root_directory = '/Users/alessandropesare/software/GitHub/ATCSBDIntegration/linkage-project/dataset/2013_monitor_specs'\n",
    "process_sources(root_directory)\n"
   ]
  }
 ],
 "metadata": {
  "kernelspec": {
   "display_name": "linkage-project",
   "language": "python",
   "name": "python3"
  },
  "language_info": {
   "codemirror_mode": {
    "name": "ipython",
    "version": 3
   },
   "file_extension": ".py",
   "mimetype": "text/x-python",
   "name": "python",
   "nbconvert_exporter": "python",
   "pygments_lexer": "ipython3",
   "version": "3.12.2"
  }
 },
 "nbformat": 4,
 "nbformat_minor": 2
}
